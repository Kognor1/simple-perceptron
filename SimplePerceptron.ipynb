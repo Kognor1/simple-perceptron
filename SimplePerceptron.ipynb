{
  "nbformat": 4,
  "nbformat_minor": 0,
  "metadata": {
    "colab": {
      "name": "Untitled3.ipynb",
      "provenance": [],
      "private_outputs": true
    },
    "kernelspec": {
      "name": "python3",
      "display_name": "Python 3"
    },
    "accelerator": "GPU"
  },
  "cells": [
    {
      "cell_type": "code",
      "metadata": {
        "id": "Q9PDgiNXSegM",
        "colab_type": "code",
        "colab": {}
      },
      "source": [
        "from google.colab import drive\n",
        "drive.mount('/content/drive')"
      ],
      "execution_count": null,
      "outputs": []
    },
    {
      "cell_type": "code",
      "metadata": {
        "id": "7xBwzBhjTIk2",
        "colab_type": "code",
        "colab": {}
      },
      "source": [
        "import numpy as np\n",
        "class Layer():\n",
        "    def __init__(self,size,nextSize):\n",
        "        self.biases = None\n",
        "        self.size=size\n",
        "        self.neurons= np.empty(shape=size)\n",
        "        self.biases = np.empty(shape=size)\n",
        "        self.weights = np.empty(shape=(size, nextSize))\n"
      ],
      "execution_count": null,
      "outputs": []
    },
    {
      "cell_type": "code",
      "metadata": {
        "id": "YqbMr3YePLhG",
        "colab_type": "code",
        "colab": {}
      },
      "source": [
        ""
      ],
      "execution_count": null,
      "outputs": []
    },
    {
      "cell_type": "code",
      "metadata": {
        "id": "9q59cZw8TnA9",
        "colab_type": "code",
        "colab": {}
      },
      "source": [
        "import random\n",
        "\n",
        "import copy\n",
        "import  numpy as np\n",
        "class NeuralNetwork():\n",
        "\n",
        "    def __init__(self,learningRate,activation,derivative,sizes):\n",
        "        self.learningRate = learningRate\n",
        "        self.activation = activation\n",
        "        self.derivative = derivative\n",
        "        self.layers=[]\n",
        "        for i in range(0,len(sizes)):\n",
        "            nextSize = 0\n",
        "            if(i<=len(sizes)-1):\n",
        "                nextSize=sizes[i]\n",
        "                self.layers.append(Layer(sizes[i],nextSize))\n",
        "                for j in range(0,sizes[i]):\n",
        "                    self.layers[i].biases[j]=random.random()* 2.0 - 1.0\n",
        "                    for k in range(0,nextSize):\n",
        "                        self.layers[i].weights[j][k]=random.random()*2.0-1.0\n",
        "\n",
        "\n",
        "\n",
        "\n",
        "    def feedForward(self,inputs):\n",
        "        self.layers[0].neurons=copy.deepcopy(inputs)\n",
        "        for i in range(1,len(self.layers)):\n",
        "            l = self.layers[i-1]\n",
        "            l1=self.layers[i]\n",
        "            l1.neurons = np.dot(l.neurons, l.weights)[:l1.size]\n",
        "            l1.neurons = self.activation(l1.neurons)\n",
        "        return  self.layers[-1].neurons\n",
        "\n",
        "    def backpropogation(self,targets):\n",
        "        errors=np.zeros(shape=(1,self.layers[-1].size))\n",
        "        errors[0]= targets - self.layers[-1].neurons\n",
        "        # for i in range(0,self.layers[-1].size):\n",
        "        #     errors[0][i]=targets[i]-self.layers[-1].neurons[i]\n",
        "        for k in range(len(self.layers)-2,0,-1):\n",
        "            l=self.layers[k]\n",
        "            l1=self.layers[k+1]\n",
        "            errorsNext=np.zeros(shape=(1,l.size))\n",
        "            gradients=np.zeros(shape=(1,l.size))\n",
        "            tmp1 = self.derivative(self.layers[k + 1].neurons)\n",
        "            tmp2=errors[0]*tmp1\n",
        "            gradients[0][:l1.size]=tmp2*self.learningRate\n",
        "            a=gradients.reshape(gradients.shape[1],1)\n",
        "\n",
        "            b=l.neurons.reshape(1,l.neurons.shape[0])\n",
        "            tmp = np.dot(a,b)\n",
        "            deltas = np.empty(shape=(l1.size,l.size))\n",
        "            deltas =tmp[:l1.size]\n",
        "\n",
        "            for i in range(0, l.size):\n",
        "                errorsNext[0][i]= np.dot(l.weights[i][:l1.size],errors[0])\n",
        "\n",
        "\n",
        "            errors=copy.deepcopy(errorsNext)\n",
        "            weightsNew=np.empty(shape=(len(l.weights),len(l.weights[0])))\n",
        "\n",
        "            A = deltas.T\n",
        "            temp=l.weights[:,:l1.size]\n",
        "            weightsNew=temp+A\n",
        "            # for i in range(0, l1.size):\n",
        "            #     for j in range(0, l.size):\n",
        "            #         weightsNew[j][i]=l.weights[j][i]+deltas[i][j]\n",
        "\n",
        "\n",
        "\n",
        "            # a=l.weights[:l.size][:l1.size]\n",
        "            # b=deltas.reshape(l1.size,l.size)\n",
        "            # tmp=a+b\n",
        "            l.weights=weightsNew\n",
        "            for i in range(0, l1.size):\n",
        "                l1.biases[i]+=gradients[0][i]\n",
        "\n"
      ],
      "execution_count": null,
      "outputs": []
    },
    {
      "cell_type": "code",
      "metadata": {
        "id": "odVwaduFJ8H4",
        "colab_type": "code",
        "colab": {}
      },
      "source": [
        "directoty = \"./drive/My Drive/nn/\""
      ],
      "execution_count": null,
      "outputs": []
    },
    {
      "cell_type": "code",
      "metadata": {
        "id": "2cMlKMS4T2TP",
        "colab_type": "code",
        "colab": {}
      },
      "source": [
        "\n",
        "def sigmoid( x):\n",
        "    return 1 / (1.0 + np.exp(-x))\n",
        "\n",
        "def dsigmoid(x):\n",
        "        return x * (1 - x)\n",
        "\n",
        "\n",
        "\n",
        "def read_Data(type):\n",
        "    dataset=type\n",
        "    path=directoty\n",
        "    if dataset == \"training\":\n",
        "        fname_img = os.path.join(path, 'train-images.idx3-ubyte')\n",
        "        fname_lbl = os.path.join(path, 'train-labels.idx1-ubyte')\n",
        "    else:\n",
        "        fname_img = os.path.join(path, 't10k-images.idx3-ubyte')\n",
        "        fname_lbl = os.path.join(path, 't10k-labels.idx1-ubyte')\n",
        "\n",
        "    flbl = open(fname_lbl, 'rb')\n",
        "    magic_nr, size = struct.unpack(\">II\", flbl.read(8))\n",
        "    Y = pyarray(\"b\", flbl.read())\n",
        "    flbl.close()\n",
        "\n",
        "    fimg = open(fname_img, 'rb')\n",
        "    magic_nr, size, rows, cols = struct.unpack(\">IIII\", fimg.read(16))\n",
        "    X = pyarray(\"B\", fimg.read())\n",
        "    fimg.close()\n",
        "    return X,Y,rows,cols,size"
      ],
      "execution_count": null,
      "outputs": []
    },
    {
      "cell_type": "code",
      "metadata": {
        "id": "_PipliE-Kjs9",
        "colab_type": "code",
        "colab": {}
      },
      "source": [
        ""
      ],
      "execution_count": null,
      "outputs": []
    },
    {
      "cell_type": "code",
      "metadata": {
        "id": "QtU5jKN8ToqC",
        "colab_type": "code",
        "colab": {}
      },
      "source": [
        "\n",
        "\n",
        "import numpy as np\n",
        "import random\n",
        "import os\n",
        "import struct\n",
        "from array import array as pyarray\n",
        "\n",
        "nn=NeuralNetwork(0.023,sigmoid,dsigmoid,[784,512,128,10])#,512,128,32,10])\n",
        "train_X, train_Y, rows, cols, size = read_Data(\"training\")\n",
        "train_X = train_X[:int(len(train_X) )]\n",
        "train_Y = train_Y[:int(len(train_Y))]\n",
        "\n",
        "images = []\n",
        "\n",
        "for i in range(0, len(train_Y)):\n",
        "    images.append(np.array(train_X[i * rows * cols: (i + 1) * rows * cols]).reshape((rows, cols)))\n",
        "images = np.array(images)\n",
        "p = np.reshape(images, (len(images), rows * cols))\n",
        "p=p*(0.99/255)\n",
        "print(p.shape)\n",
        "labels = np.array(train_Y)\n",
        "labels = labels.reshape(labels.shape[0], 1)\n",
        "\n",
        "errors=[]\n",
        "indexs=[]\n",
        "samples = p.shape[0]\n",
        "samples=2000\n",
        "k=0\n",
        "for i in range(100):\n",
        "    right=1\n",
        "    errorSum=0.0\n",
        "    batchsize=200\n",
        "    for j in range(0,samples):\n",
        "        imgIndex=int(random.random()*samples)\n",
        "        targets=np.zeros(shape=10)\n",
        "        digit =labels[imgIndex][0]\n",
        "        targets[digit]=1\n",
        "        outputs = nn.feedForward(p[imgIndex])\n",
        "        maxDigit=0\n",
        "        maxDigitWeight=-1\n",
        "\n",
        "        if(digit==np.argmax(outputs)):\n",
        "          right+=1\n",
        "        for k in range(10):\n",
        "            errorSum+=(targets[k]-outputs[k])*(targets[k]-outputs[k])/2\n",
        "            errors.append(errorSum)\n",
        "            indexs.append(k)\n",
        "            k+=1\n",
        "        nn.backpropogation(targets)\n",
        "\n",
        "    print(\"epoch: \" + str(i) + \". correct: \" + str(right) + \". error: \" + str(errorSum))\n",
        "\n",
        "print(nn.layers[0].weights)"
      ],
      "execution_count": null,
      "outputs": []
    },
    {
      "cell_type": "code",
      "metadata": {
        "id": "Y2CB5mVXgv4_",
        "colab_type": "code",
        "colab": {}
      },
      "source": [
        "import matplotlib.pyplot as plt\n",
        "%matplotlib inline\n",
        "print(errors)\n",
        "plt.plot(errors)"
      ],
      "execution_count": null,
      "outputs": []
    },
    {
      "cell_type": "markdown",
      "metadata": {
        "id": "0IIdlISZgvNo",
        "colab_type": "text"
      },
      "source": [
        ""
      ]
    },
    {
      "cell_type": "code",
      "metadata": {
        "id": "HibmSzsbIanL",
        "colab_type": "code",
        "colab": {}
      },
      "source": [
        "batchsize=100\n",
        "rigth_t=0\n",
        "for j in range(0,batchsize):\n",
        "    outputs_t = nn.feedForward(p[j])\n",
        "    digit_t =labels[j][0]\n",
        "    if(digit_t==np.argmax(outputs_t)):\n",
        "          rigth_t+=1\n",
        "\n",
        "print(rigth_t)"
      ],
      "execution_count": null,
      "outputs": []
    },
    {
      "cell_type": "code",
      "metadata": {
        "id": "N77hsC1FPwv-",
        "colab_type": "code",
        "colab": {}
      },
      "source": [
        "\n",
        "train_X, train_Y, rows, cols, size = read_Data(\"test\")\n",
        "train_X = train_X[:int(len(train_X) )]\n",
        "train_Y = train_Y[:int(len(train_Y))]\n",
        "\n",
        "images = []\n",
        "\n",
        "for i in range(0, len(train_Y)):\n",
        "    images.append(np.array(train_X[i * rows * cols: (i + 1) * rows * cols]).reshape((rows, cols)))\n",
        "images = np.array(images)\n",
        "p = np.reshape(images, (len(images), rows * cols))\n",
        "p=p*(0.99/255)\n",
        "print(p.shape)\n",
        "labels = np.array(train_Y)\n",
        "labels = labels.reshape(labels.shape[0], 1)\n",
        "\n",
        "\n",
        "rigth_t=0\n",
        "for i in range(p.shape[0]):\n",
        "\n",
        "  digit_t =labels[i][0]\n",
        "  outputs_t = nn.feedForward(p[i])\n",
        "  maxDigit=0\n",
        "  maxDigitWeight=-1\n",
        "  if(digit_t==np.argmax(outputs_t)):\n",
        "          rigth_t+=1\n",
        "\n",
        "print(rigth_t)\n",
        "  \n"
      ],
      "execution_count": null,
      "outputs": []
    },
    {
      "cell_type": "code",
      "metadata": {
        "id": "WIPogh-sTujG",
        "colab_type": "code",
        "colab": {}
      },
      "source": [
        "  "
      ],
      "execution_count": null,
      "outputs": []
    },
    {
      "cell_type": "code",
      "metadata": {
        "id": "VuLwZ9kqStpB",
        "colab_type": "code",
        "colab": {}
      },
      "source": [
        ""
      ],
      "execution_count": null,
      "outputs": []
    }
  ]
}